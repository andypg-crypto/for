{
  "nbformat": 4,
  "nbformat_minor": 0,
  "metadata": {
    "colab": {
      "provenance": [],
      "authorship_tag": "ABX9TyNWm2m50sw0kThavM9JFwyH",
      "include_colab_link": true
    },
    "kernelspec": {
      "name": "python3",
      "display_name": "Python 3"
    },
    "language_info": {
      "name": "python"
    }
  },
  "cells": [
    {
      "cell_type": "markdown",
      "metadata": {
        "id": "view-in-github",
        "colab_type": "text"
      },
      "source": [
        "<a href=\"https://colab.research.google.com/github/andypg-crypto/for/blob/main/for.ipynb\" target=\"_parent\"><img src=\"https://colab.research.google.com/assets/colab-badge.svg\" alt=\"Open In Colab\"/></a>"
      ]
    },
    {
      "cell_type": "code",
      "execution_count": 1,
      "metadata": {
        "colab": {
          "base_uri": "https://localhost:8080/"
        },
        "id": "bwyZZKhUNk3B",
        "outputId": "8794d760-5ae7-4d52-9bba-93ebbb5596ff"
      },
      "outputs": [
        {
          "output_type": "stream",
          "name": "stdout",
          "text": [
            "A\n",
            "N\n",
            "D\n",
            "Y\n"
          ]
        }
      ],
      "source": [
        "\n",
        "#ejemplo con bucle for\n",
        "\n",
        "palabra = \"ANDY\"\n",
        "# Se crea una variable llamada palabra y se le asigna el texto \"ANDY\".\n",
        "# Esto es una cadena de caracteres (string) que representa un nombre.\n",
        "for letra in palabra:\n",
        "# Se inicia un bucle for que va a recorrer cada letra de la palabra \"ANDERSON\".\n",
        "# En cada repetición del bucle, la variable letra toma una letra diferente de la palabra.\n",
        "  print(letra)\n",
        "# Dentro del bucle, se imprime la letra actual en cada vuelta.\n",
        "# Esto hace que las letras de \"ANDERSON\" se impriman una por una, en líneas separadas.\n",
        "\n",
        "\n"
      ]
    }
  ]
}