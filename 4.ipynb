{
  "nbformat": 4,
  "nbformat_minor": 0,
  "metadata": {
    "colab": {
      "provenance": [],
      "authorship_tag": "ABX9TyOL+tpOaNbYkr2xqSNS94io",
      "include_colab_link": true
    },
    "kernelspec": {
      "name": "python3",
      "display_name": "Python 3"
    },
    "language_info": {
      "name": "python"
    }
  },
  "cells": [
    {
      "cell_type": "markdown",
      "metadata": {
        "id": "view-in-github",
        "colab_type": "text"
      },
      "source": [
        "<a href=\"https://colab.research.google.com/github/andypg-crypto/for/blob/main/4.ipynb\" target=\"_parent\"><img src=\"https://colab.research.google.com/assets/colab-badge.svg\" alt=\"Open In Colab\"/></a>"
      ]
    },
    {
      "cell_type": "markdown",
      "source": [
        "Dq ). En el CS50 Se discutió un ejercicio que mezclaba la estructura de Listas, Diccionarios if/else y for copia el codigo que te dejo a continuación y realiza los respectivos comentarios linea a linea y explica el por qué de sus salidas y adiciona mas abajo el enlace de todo el ejercicio en Github realizado en Google Colab"
      ],
      "metadata": {
        "id": "RayxGn266dvV"
      }
    },
    {
      "cell_type": "code",
      "source": [
        "people = [\n",
        "    {\"name\": \"Carter\", \"number\": \"+1-617-495-1000\"},\n",
        "    {\"name\": \"David\", \"number\": \"+1-617-495-1000\"},\n",
        "    {\"name\": \"John\", \"number\": \"+1-949-468-2750\"}\n",
        "]\n",
        "  # se declaran las variables, se le asigna el valor \"carter, david, john\" a la variable \"name\"\n",
        "  # se declaran las variables, se le asigna el valor \"+1-949-468-2750,+1-617-495-1000,+1-617-495-1000 \" a la variable \"numb\"\n",
        "name = input(\"Name: \")\n",
        "  # se llama la variable\n",
        "for person in people:\n",
        "  # se usa el ciclo para determinar el \"name\" y el \"number\" que esta buscando\n",
        "    if person[\"name\"] == name:\n",
        "  # si la condicion es verdadera arrojara el \"name\"\n",
        "        number = person[\"number\"]\n",
        "  # si la condicion es verdadera arrojara el \"number\"\n",
        "        print(f\"Found {number}\")\n",
        "        break\n",
        "else:\n",
        "    print(\"Not found\")\n",
        "# si no se cumple la condicion arrojara \" no encontrado\" como respuesta\n",
        "\n"
      ],
      "metadata": {
        "id": "k1k0nXjgxoL2"
      },
      "execution_count": null,
      "outputs": []
    },
    {
      "cell_type": "code",
      "source": [],
      "metadata": {
        "id": "DkgZm0br7121"
      },
      "execution_count": null,
      "outputs": []
    }
  ]
}